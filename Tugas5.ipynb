{
 "cells": [
  {
   "cell_type": "code",
   "execution_count": 1,
   "id": "3e364e23",
   "metadata": {},
   "outputs": [
    {
     "name": "stdout",
     "output_type": "stream",
     "text": [
      "Luas lingkarannya adalah  78.53981633974483\n",
      "Volume Bola adalah  523.5987755982989\n",
      "Luas Permukaan Tabung adalah  314.1592653589793\n",
      "Volume silinder adalah  392.6990816987241\n"
     ]
    }
   ],
   "source": [
    "import math\n",
    "class BendaBulat:\n",
    "    def __init__(self,radius = None,tinggi=None):\n",
    "        if(radius!=None and tinggi!=None):\n",
    "            self.radius = radius\n",
    "            self.tinggi = tinggi\n",
    "        elif(radius!=None):\n",
    "            self.radius= radius\n",
    "            self.tinggi= 5\n",
    "        elif(tinggi!=None):\n",
    "            self.tinggi= tinggi\n",
    "            self.radius= 5\n",
    "        else:\n",
    "            self.radius= 10\n",
    "            self.tinggi= 5\n",
    "    \n",
    "    def luasLingkaran(self):\n",
    "        return float(math.pi*self.radius*self.radius)\n",
    "    \n",
    "    def volumeBola(self):\n",
    "        return float(math.pi*(4/3)*((self.radius)**3))\n",
    "    \n",
    "    def luasPermukaanTabung(self):\n",
    "        return float(2*math.pi*self.radius*(self.radius+self.tinggi))\n",
    "    \n",
    "    def volumeSilinder(self):\n",
    "        return float(math.pi*self.tinggi*((self.radius)**2))\n",
    "            \n",
    "bendaBulat1=BendaBulat(5,5)\n",
    "print(\"Luas lingkarannya adalah \",bendaBulat1.luasLingkaran())\n",
    "print(\"Volume Bola adalah \",bendaBulat1.volumeBola())\n",
    "print(\"Luas Permukaan Tabung adalah \",bendaBulat1.luasPermukaanTabung())\n",
    "print(\"Volume silinder adalah \",bendaBulat1.volumeSilinder())"
   ]
  },
  {
   "cell_type": "code",
   "execution_count": 17,
   "id": "0cfd9637",
   "metadata": {},
   "outputs": [
    {
     "name": "stdout",
     "output_type": "stream",
     "text": [
      "The area of square base of the cube is  26.009999999999998\n",
      "The volume of the cube is  132.65099999999998\n",
      "The are af rectangle base of the cuboid is  30.599999999999998\n",
      "The volume of cuboid is  238.67999999999998\n"
     ]
    }
   ],
   "source": [
    "class BendaSegi4:\n",
    "    def __init__(self,panjang=None,lebar=None,tinggi=None):\n",
    "        if(panjang!=None and lebar!=None and tinggi!=None):\n",
    "            self.panjang = panjang\n",
    "            self.lebar = lebar\n",
    "            self.tinggi = tinggi\n",
    "        elif(panjang!=None and lebar!=None):\n",
    "            self.panjang = panjang\n",
    "            self.lebar = lebar\n",
    "            self.tinggi = 5\n",
    "        elif(panjang!=None and tinggi!=None):\n",
    "            self.panjang = panjang\n",
    "            self.tinggi = tinggi\n",
    "            self.lebar = 5\n",
    "        elif(lebar!=None and tinggi!=None):\n",
    "            self.lebar = lebar\n",
    "            self.tinggi = tinggi\n",
    "            self.panjang = 5\n",
    "        elif(panjang!=None):\n",
    "            self.panjang = panjang\n",
    "            self.lebar = 5\n",
    "            self.tinggi = 5\n",
    "        elif(lebar!=None):\n",
    "            self.lebar=lebar\n",
    "            self.panjang = 5\n",
    "            self.tinggi = 5\n",
    "        elif(tinggi!=None):\n",
    "            self.tinggi = tinggi\n",
    "            self.panjang = 5\n",
    "            self.lebar = 5\n",
    "        \n",
    "    def luasBujurSangkar(self):\n",
    "        return float(self.panjang**2)\n",
    "    \n",
    "    def volumeKubus(self):\n",
    "        return float(self.panjang**3)\n",
    "    \n",
    "    def luasPersegiPanjang(self):\n",
    "        return float(self.panjang*self.lebar)\n",
    "    \n",
    "    def volumeBalok(self):\n",
    "        return float(self.panjang*self.lebar*self.tinggi)\n",
    "    \n",
    "\n",
    "cube = BendaSegi4(5.1,5.1,5.1)\n",
    "print(\"The area of square base of the cube is \",cube.luasBujurSangkar())\n",
    "print(\"The volume of the cube is \", cube.volumeKubus())\n",
    "cuboid = BendaSegi4(5.1,6,7.8)\n",
    "print(\"The are af rectangle base of the cuboid is \",cuboid.luasPersegiPanjang())\n",
    "print(\"The volume of cuboid is \",cuboid.volumeBalok())"
   ]
  },
  {
   "cell_type": "code",
   "execution_count": 24,
   "id": "62367080",
   "metadata": {},
   "outputs": [
    {
     "name": "stdout",
     "output_type": "stream",
     "text": [
      "Total salary of both of employees is  35000000\n",
      "Difference between the salaries of both of employees is  5000000\n"
     ]
    }
   ],
   "source": [
    "class Pegawai:\n",
    "    def __init__(self,nama,nip,jeniskelamin,gaji):\n",
    "        self.__nama = nama\n",
    "        self.__nip = nip\n",
    "        self.__jeniskelamin = jeniskelamin\n",
    "        self.__gaji = gaji\n",
    "    def setNama(self,nama):\n",
    "        self.__nama = nama\n",
    "    def setNip(self,nip):\n",
    "        self.__nip = nip\n",
    "    def setJenisKelamin(self,jeniskelamin):\n",
    "        self.__jeniskelamin = jeniskelamin\n",
    "    def setGaji(self,gaji):\n",
    "        self.__gaji = gaji\n",
    "    def getNama(self):\n",
    "        return self.__nama \n",
    "    def getNip(self,nip):\n",
    "        return self.__nip \n",
    "    def getJeniskelamin(self):\n",
    "        return self.__jeniskelamin\n",
    "    def getGaji(self):\n",
    "        return self.__gaji\n",
    "    def __add__(self,other):\n",
    "        return self.__gaji+other.__gaji\n",
    "    def __sub__(self,other):\n",
    "        return self.__gaji-other.__gaji\n",
    "pegawai1 = Pegawai('Yohannes','082011633062',True,15000000)\n",
    "pegawai2 = Pegawai('Alexander','082011633000',True,20000000)\n",
    "jumlahGaji = pegawai1+pegawai2\n",
    "print(\"Total salary of both of employees is \",jumlahGaji)\n",
    "selisihGaji = pegawai2-pegawai1\n",
    "print(\"Difference between the salaries of both of employees is \",selisihGaji)"
   ]
  },
  {
   "cell_type": "code",
   "execution_count": 24,
   "id": "0b4b8f44",
   "metadata": {},
   "outputs": [
    {
     "name": "stdout",
     "output_type": "stream",
     "text": [
      "( 1 , 4 , 3 )\n",
      "Jumlah vektor1 dan vektor2 adalah \n",
      "( 3 , 9 , 6 )\n",
      "Selisih vektor1 dan vektor2 adalah \n",
      "( -1 , -1 , 0 )\n"
     ]
    }
   ],
   "source": [
    "class Vektor:\n",
    "    def __init__(self,element1=None,element2=None,element3=None):\n",
    "        if(element1!=None and element2!=None and element3!=None):\n",
    "            self.element1=element1\n",
    "            self.element2=element2\n",
    "            self.element3=element3\n",
    "        elif(element1!=None and element2!=None):\n",
    "            self.element1=element1\n",
    "            self.element2=element2\n",
    "            self.element3=4\n",
    "        elif(element1!=None):\n",
    "            self.element1=element1\n",
    "            self.element2=4\n",
    "            self.element3=5\n",
    "    \n",
    "    def jumlah2Vektor(self, vektor1=None,vektor2=None):\n",
    "        vektorResult=Vektor()\n",
    "        if(vektor1!=None and vektor2!=None):\n",
    "            vektorResult.element1=vektor1.element1+vektor2.element1\n",
    "            vektorResult.element2=vektor1.element2+vektor2.element2\n",
    "            vektorResult.element3=vektor1.element3+vektor2.element3\n",
    "        elif(vektor1!=None):\n",
    "            vektorResult.element1=self.element1+vektor1.element1\n",
    "            vektorResult.element2=self.element2+vektor1.element2\n",
    "            vektorResult.element3=self.element3+vektor1.element3\n",
    "        return vektorResult\n",
    "    \n",
    "    def selisih2Vektor(self,vektor1=None,vektor2=None):\n",
    "        vektorResult=Vektor()\n",
    "        if(vektor1!=None and vektor2!=None):\n",
    "            vektorResult.element1=vektor1.element1-vektor2.element1\n",
    "            vektorResult.element2=vektor1.element2-vektor2.element2\n",
    "            vektorResult.element3=vektor1.element3-vektor2.element3\n",
    "        elif(vektor1!=None):\n",
    "            vektorResult.element1=self.element1-vektor1.element1\n",
    "            vektorResult.element2=self.element2-vektor1.element2\n",
    "            vektorResult.element3=self.element3-vektor1.element3\n",
    "        return vektorResult\n",
    "    \n",
    "    def tampilVektor(self,vektor):\n",
    "        print(\"(\",vektor.element1,\",\",vektor.element2,\",\",vektor.element3,\")\")\n",
    "        \n",
    "vektor1=Vektor(1,4,3)\n",
    "vektor2=Vektor(2,5,3)\n",
    "vektor1.tampilVektor(vektor1)\n",
    "vektorResultan = vektor1.jumlah2Vektor(vektor2,None)\n",
    "print(\"Jumlah vektor1 dan vektor2 adalah \")\n",
    "vektorResultan.tampilVektor(vektorResultan)\n",
    "vektorResultan = vektor1.selisih2Vektor(vektor2,None)\n",
    "print(\"Selisih vektor1 dan vektor2 adalah \")\n",
    "vektorResultan.tampilVektor(vektorResultan)"
   ]
  },
  {
   "cell_type": "code",
   "execution_count": null,
   "id": "b6b9ee18",
   "metadata": {},
   "outputs": [],
   "source": []
  },
  {
   "cell_type": "code",
   "execution_count": null,
   "id": "89b68c86",
   "metadata": {},
   "outputs": [],
   "source": []
  }
 ],
 "metadata": {
  "kernelspec": {
   "display_name": "Python 3",
   "language": "python",
   "name": "python3"
  },
  "language_info": {
   "codemirror_mode": {
    "name": "ipython",
    "version": 3
   },
   "file_extension": ".py",
   "mimetype": "text/x-python",
   "name": "python",
   "nbconvert_exporter": "python",
   "pygments_lexer": "ipython3",
   "version": "3.8.8"
  }
 },
 "nbformat": 4,
 "nbformat_minor": 5
}
