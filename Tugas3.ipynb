{
 "cells": [
  {
   "cell_type": "code",
   "execution_count": 5,
   "id": "0ff81c48",
   "metadata": {},
   "outputs": [
    {
     "name": "stdout",
     "output_type": "stream",
     "text": [
      "The radius is =  7\n",
      "Let's to change the radius to 10\n",
      "The radius is =  10\n",
      "The circumference of circle A is  62.83185307179586\n",
      "The area of circle A is  314.1592653589793\n",
      "The volume of circle A is  4188.790204786391\n"
     ]
    }
   ],
   "source": [
    "import math\n",
    "\n",
    "class bendaBulat():\n",
    "    radius = 7\n",
    "    \n",
    "    def setRadius(self, radius):\n",
    "        self.radius = radius\n",
    "    \n",
    "    def getRadius(self):\n",
    "        return self.radius\n",
    "    \n",
    "    def circumference(self):\n",
    "        return float (self.radius*2*math.pi)\n",
    "    \n",
    "    def area(self):\n",
    "        return float (self.radius**2)*math.pi\n",
    "    \n",
    "    def volumeBall(self):\n",
    "        return float (4.0/3.0)*math.pi*(self.radius**3)\n",
    "    \n",
    "\n",
    "circleA = bendaBulat()\n",
    "print(\"The radius is = \",circleA.getRadius())\n",
    "print(\"Let's to change the radius to 10\")\n",
    "circleA.setRadius(10)\n",
    "print(\"The radius is = \",circleA.getRadius())\n",
    "circumferenceOfcircleA = circleA.circumference()\n",
    "print(\"The circumference of circle A is \",circumferenceOfcircleA)\n",
    "areaOfcircleA = circleA.area()\n",
    "print(\"The area of circle A is \",areaOfcircleA)\n",
    "volumeBallofCircleA = circleA.volumeBall()\n",
    "print(\"The volume of circle A is \", volumeBallofCircleA)\n",
    "\n",
    "\n",
    "    "
   ]
  },
  {
   "cell_type": "code",
   "execution_count": 10,
   "id": "cfe502d2",
   "metadata": {},
   "outputs": [
    {
     "name": "stdout",
     "output_type": "stream",
     "text": [
      "The length of squareA is  2\n",
      "The width of squareA is  2\n",
      "Let's change width and length to 10\n",
      "The length of squareA is  10\n",
      "The width of squareA is  10\n",
      "The circumference of squareA is  40.0\n",
      "The area of squareA is  100.0\n",
      "\n",
      "\n",
      "\n",
      "The length of squareA is  2\n",
      "The width of squareA is  2\n",
      "Because rectangleA is rectangle, Let's change width to 10\n",
      "The length of rectangleA is  2\n",
      "The width of rectangleA is  10\n",
      "The circumference of rectangleA is  24.0\n",
      "The area of rectangleA is  20.0\n"
     ]
    }
   ],
   "source": [
    "class bendaSegi4():\n",
    "    length = 2\n",
    "    width = 2\n",
    "    \n",
    "    def setLength(self,length):\n",
    "        self.length = length\n",
    "    \n",
    "    def setWidth(self,width):\n",
    "        self.width = width\n",
    "    \n",
    "    def getLength(self):\n",
    "        return self.length\n",
    "    \n",
    "    def getWidth(self):\n",
    "        return self.width\n",
    "    \n",
    "    def circumferenceOfSquare(self):\n",
    "        return float (self.length*2+self.width*2)\n",
    "    \n",
    "    def circumferenceOfRectangle(self):\n",
    "        return float (self.length*2+self.width*2)\n",
    "    \n",
    "    def areaOfSquare(self):\n",
    "        return float(self.length*self.width)\n",
    "    \n",
    "    def areaOfRectangle(self):\n",
    "        return float(self.length*self.width)\n",
    "    \n",
    "squareA = bendaSegi4()\n",
    "print(\"The length of squareA is \",squareA.getLength())\n",
    "print(\"The width of squareA is \",squareA.getWidth())\n",
    "print(\"Let's change width and length to 10\")\n",
    "squareA.setLength(10)\n",
    "squareA.setWidth(10)\n",
    "print(\"The length of squareA is \",squareA.getLength())\n",
    "print(\"The width of squareA is \",squareA.getWidth())\n",
    "print(\"The circumference of squareA is \",squareA.circumferenceOfSquare())\n",
    "print(\"The area of squareA is \",squareA.areaOfSquare())\n",
    "\n",
    "print(\"\\n\\n\")\n",
    "\n",
    "rectangleA = bendaSegi4()\n",
    "print(\"The length of squareA is \",rectangleA.getLength())\n",
    "print(\"The width of squareA is \",rectangleA.getWidth())\n",
    "print(\"Because rectangleA is rectangle, Let's change width to 10\")\n",
    "rectangleA.setWidth(10)\n",
    "print(\"The length of rectangleA is \",rectangleA.getLength())\n",
    "print(\"The width of rectangleA is \",rectangleA.getWidth())\n",
    "print(\"The circumference of rectangleA is \",rectangleA.circumferenceOfRectangle())\n",
    "print(\"The area of rectangleA is \",rectangleA.areaOfRectangle())\n",
    "\n",
    "\n"
   ]
  },
  {
   "cell_type": "code",
   "execution_count": null,
   "id": "e6ae7b32",
   "metadata": {},
   "outputs": [],
   "source": []
  }
 ],
 "metadata": {
  "kernelspec": {
   "display_name": "Python 3",
   "language": "python",
   "name": "python3"
  },
  "language_info": {
   "codemirror_mode": {
    "name": "ipython",
    "version": 3
   },
   "file_extension": ".py",
   "mimetype": "text/x-python",
   "name": "python",
   "nbconvert_exporter": "python",
   "pygments_lexer": "ipython3",
   "version": "3.8.8"
  }
 },
 "nbformat": 4,
 "nbformat_minor": 5
}
