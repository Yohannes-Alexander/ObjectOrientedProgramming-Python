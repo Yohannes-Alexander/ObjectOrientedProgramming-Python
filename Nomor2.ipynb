{
 "cells": [
  {
   "cell_type": "code",
   "execution_count": 44,
   "id": "6d4fb9c7",
   "metadata": {},
   "outputs": [
    {
     "name": "stdout",
     "output_type": "stream",
     "text": [
      "2002-08-18\n",
      "00:00:00\n",
      "Sun Aug 18 00:00:00 2002\n",
      "UTC+05:00\n",
      "\n",
      "12\n",
      "13\n",
      "10\n",
      "3628800\n",
      "\n",
      "(0.36787944117144233+0j)\n",
      "3.141592653589793j\n",
      "1.3643763538418412j\n",
      "1j\n",
      "\n",
      "3.5\n",
      "3.75\n",
      "2\n",
      "7.583333333333333\n",
      "\n",
      "True\n",
      "True\n",
      "False\n",
      "False\n"
     ]
    }
   ],
   "source": [
    "import datetime as dt\n",
    "import math\n",
    "import cmath\n",
    "import statistics as stat\n",
    "import operator as op\n",
    "class Nomor2:\n",
    "    def libTime(self):\n",
    "        print(dt.date(2002,8,18))\n",
    "        print(dt.time())\n",
    "        print(dt.date(2002,8,18).ctime())\n",
    "        print(dt.timezone(timedelta(hours=5)))\n",
    "    \n",
    "    def libMath(self):\n",
    "        print(math.floor(12.42))\n",
    "        print(math.ceil(12.42))\n",
    "        print(math.comb(5,2))\n",
    "        print(math.factorial(10))\n",
    "        \n",
    "    def libCmath(self):\n",
    "        print(cmath.exp(complex(-1.0, 0.0)))\n",
    "        print(cmath.log(complex(-1.0, 0.0)))\n",
    "        print(cmath.log10(complex(-1.0, 0.0)))\n",
    "        print(cmath.sqrt(complex(-1.0, 0.0)))\n",
    "        \n",
    "    def libStatistics(self):\n",
    "        print(stat.median([1,5,7,2]))\n",
    "        print(stat.mean([1,5,7,2]))\n",
    "        print(stat.mode([1,5,2,7,2]))\n",
    "        print(stat.variance([1,5,7,2]))\n",
    "    \n",
    "    def libOperator(self):\n",
    "        print(op.lt(1,4))\n",
    "        print(op.ne(1,4))\n",
    "        print(op.eq(1,4))\n",
    "        print(op.gt(1,4))\n",
    "    \n",
    "    \n",
    "    \n",
    "    \n",
    "        \n",
    "Obj1 = Nomor2()\n",
    "Obj1.libTime()\n",
    "print()\n",
    "Obj1.libMath()\n",
    "print()\n",
    "Obj1.libCmath()\n",
    "print()\n",
    "Obj1.libStatistics()\n",
    "print()\n",
    "Obj1.libOperator()"
   ]
  },
  {
   "cell_type": "code",
   "execution_count": null,
   "id": "4fe8a657",
   "metadata": {},
   "outputs": [],
   "source": []
  }
 ],
 "metadata": {
  "kernelspec": {
   "display_name": "Python 3",
   "language": "python",
   "name": "python3"
  },
  "language_info": {
   "codemirror_mode": {
    "name": "ipython",
    "version": 3
   },
   "file_extension": ".py",
   "mimetype": "text/x-python",
   "name": "python",
   "nbconvert_exporter": "python",
   "pygments_lexer": "ipython3",
   "version": "3.8.8"
  }
 },
 "nbformat": 4,
 "nbformat_minor": 5
}
