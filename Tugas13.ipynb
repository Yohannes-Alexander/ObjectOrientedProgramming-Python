{
 "cells": [
  {
   "cell_type": "code",
   "execution_count": 16,
   "id": "d6c65ca9",
   "metadata": {},
   "outputs": [
    {
     "name": "stdout",
     "output_type": "stream",
     "text": [
      "data is 30\n",
      "data is 30\n"
     ]
    }
   ],
   "source": [
    "class TestOuter1:\n",
    "    data = 30\n",
    "    \n",
    "    class Inner():\n",
    "        def msg(self):\n",
    "            print(\"data is\",TestOuter1.data)\n",
    "            \n",
    "from io import StringIO\n",
    "class TestOuter1Inner:\n",
    "    \n",
    "    @staticmethod\n",
    "    def msg():\n",
    "        msgs = StringIO()\n",
    "        msgs.write(\"data is \")\n",
    "        msgs.write(str(TestOuter1.data))\n",
    "        print(msgs.getvalue())\n",
    "        \n",
    "\n",
    "obj1 = TestOuter1.Inner()\n",
    "obj1.msg()\n",
    "obj2 = TestOuter1Inner()\n",
    "obj2.msg()\n",
    "    \n",
    "\n",
    "            \n",
    "        \n",
    "    \n"
   ]
  },
  {
   "cell_type": "code",
   "execution_count": 5,
   "id": "06ea1d25",
   "metadata": {},
   "outputs": [
    {
     "name": "stdout",
     "output_type": "stream",
     "text": [
      "I am a mammal\n",
      "coba method static\n",
      "I eat food\n",
      "cobaVarStatic = 25\n",
      "\n",
      "I am a reptile\n",
      "I eat food\n"
     ]
    }
   ],
   "source": [
    "class Animal:\n",
    "    cobaVarStatic = 25\n",
    "    \n",
    "    @staticmethod\n",
    "    def eat():\n",
    "        print(\"I eat food\")\n",
    "     \n",
    "    class Mammal:\n",
    "        def displayInfo(self):\n",
    "            print(\"I am a mammal\")\n",
    "            \n",
    "        @staticmethod\n",
    "        def cekMethodStatic():\n",
    "            print(\"coba method static\")\n",
    "            \n",
    "        def mammalEat(self):\n",
    "            Animal.eat()\n",
    "        \n",
    "        def tampilVarStatic(self):\n",
    "            print(\"cobaVarStatic =\",Animal.cobaVarStatic)\n",
    "    \n",
    "    class Reptile:\n",
    "        def displayInfo(self):\n",
    "            print('I am a reptile')\n",
    "        \n",
    "        def reptileEat(self):\n",
    "            Animal.eat()\n",
    "\n",
    "ObjMam = Animal.Mammal()\n",
    "ObjMam.displayInfo()\n",
    "ObjMam.cekMethodStatic()\n",
    "ObjMam.mammalEat()\n",
    "ObjMam.tampilVarStatic()\n",
    "print()\n",
    "ObjRep = Animal.Reptile()\n",
    "ObjRep.displayInfo()\n",
    "ObjRep.reptileEat()\n",
    "\n",
    "        "
   ]
  },
  {
   "cell_type": "code",
   "execution_count": 15,
   "id": "d14336e7",
   "metadata": {},
   "outputs": [
    {
     "name": "stdout",
     "output_type": "stream",
     "text": [
      "Engine Type for 8WD= Bigger\n",
      "Engine Type for 8WD= Bigger\n"
     ]
    }
   ],
   "source": [
    "class Car:\n",
    "    def __init__(self, carName, carType):\n",
    "        self.carName = carName\n",
    "        self.carType = carType\n",
    "        \n",
    "    def getCarName(self):\n",
    "        return self.carName\n",
    "    \n",
    "class Engine(Car):\n",
    "    \n",
    "    def setEngine(self):\n",
    "        if(self.carType==\"4WD\"):\n",
    "            if(self.getCarName()==\"Crysler\"):\n",
    "                self.engineType = \"Bigger\"\n",
    "            else:\n",
    "                self.engineType = \"Smaller\"\n",
    "        else:\n",
    "            self.engineType = \"Bigger\"\n",
    "    \n",
    "    def getEngineType(self):\n",
    "        return self.engineType\n",
    "    \n",
    "\n",
    "car1 = Engine('Mazda','8WD')\n",
    "car1.setEngine()\n",
    "print(\"Engine Type for 8WD=\",car1.getEngineType())\n",
    "\n",
    "car2 = Engine('Crysler','4WD')\n",
    "car2.setEngine()\n",
    "print(\"Engine Type for 8WD=\",car2.getEngineType())\n",
    "            "
   ]
  },
  {
   "cell_type": "code",
   "execution_count": 43,
   "id": "d0b7efde",
   "metadata": {},
   "outputs": [
    {
     "name": "stdout",
     "output_type": "stream",
     "text": [
      "Harry Potter\n"
     ]
    }
   ],
   "source": [
    "class BookList:\n",
    "    def __init__(self):\n",
    "        self.list = None\n",
    "    def add(self,book):\n",
    "        node = BookNode(book)\n",
    "        tmpnode = BookNode()\n",
    "        if(self.list==None):\n",
    "            self.list = node\n",
    "        else:\n",
    "            tmpnode = self.list\n",
    "        while(tmpnode.next!=None):\n",
    "            tmpnode=tmpnode.next\n",
    "            tmpnode.next = node\n",
    "            \n",
    "    def toString(self):\n",
    "        string=\"\"\n",
    "        tmpnode = self.list\n",
    "        while(tmpnode!=None):\n",
    "            string += str(tmpnode.book.name) + \"\\n\"\n",
    "            tmpnode = tmpnode.next\n",
    "\n",
    "            \n",
    "        return string\n",
    "    \n",
    "class Book:\n",
    "    def __init__(self,name):\n",
    "        self.name = name\n",
    "\n",
    "class BookNode():\n",
    "    def __init__(self,book =None):\n",
    "        if(book!=None):\n",
    "            self.book = book\n",
    "            self.next = None\n",
    "        else:\n",
    "            self.book = None\n",
    "            self.next = None\n",
    "        \n",
    "shelf = BookList()\n",
    "shelf.add(Book(\"Harry Potter\"))\n",
    "shelf.add(Book(\"Around the World in 80 Days\"))\n",
    "shelf.add(Book(\"Count of Monte Cristo\"))\n",
    "shelf.add(Book(\"Jataka Tales\"))\n",
    "shelf.add(Book(\"Aesop's Fables\"))\n",
    "print(shelf.list.book.name)\n"
   ]
  },
  {
   "cell_type": "code",
   "execution_count": null,
   "id": "fc994022",
   "metadata": {},
   "outputs": [],
   "source": []
  }
 ],
 "metadata": {
  "kernelspec": {
   "display_name": "Python 3",
   "language": "python",
   "name": "python3"
  },
  "language_info": {
   "codemirror_mode": {
    "name": "ipython",
    "version": 3
   },
   "file_extension": ".py",
   "mimetype": "text/x-python",
   "name": "python",
   "nbconvert_exporter": "python",
   "pygments_lexer": "ipython3",
   "version": "3.8.8"
  }
 },
 "nbformat": 4,
 "nbformat_minor": 5
}
